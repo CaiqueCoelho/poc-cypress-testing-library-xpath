{
 "cells": [
  {
   "cell_type": "code",
   "execution_count": 1,
   "id": "f0a46871",
   "metadata": {},
   "outputs": [
    {
     "name": "stdout",
     "output_type": "stream",
     "text": [
      "/Users/caiquecoelho/opt/anaconda3/bin/python\n"
     ]
    }
   ],
   "source": [
    " import sys\n",
    " print(sys.executable) "
   ]
  },
  {
   "cell_type": "code",
   "execution_count": 2,
   "id": "503ea815",
   "metadata": {},
   "outputs": [],
   "source": [
    "import pandas as pd"
   ]
  },
  {
   "cell_type": "code",
   "execution_count": 6,
   "id": "b2254a7e",
   "metadata": {},
   "outputs": [],
   "source": [
    "import glob\n",
    "import json\n",
    "import pandas as pd\n",
    "import sqlite3 as sq\n",
    "\n",
    "all_reports = glob.glob(\"mochawesome-report/*\")"
   ]
  },
  {
   "cell_type": "code",
   "execution_count": 7,
   "id": "c5ebf605",
   "metadata": {},
   "outputs": [
    {
     "data": {
      "text/plain": [
       "['mochawesome-report/mochawesome_020.json',\n",
       " 'mochawesome-report/mochawesome_077.json',\n",
       " 'mochawesome-report/mochawesome_098.json',\n",
       " 'mochawesome-report/mochawesome_132.json',\n",
       " 'mochawesome-report/mochawesome_061.json',\n",
       " 'mochawesome-report/mochawesome_124.json',\n",
       " 'mochawesome-report/mochawesome_036.json',\n",
       " 'mochawesome-report/mochawesome_108.json',\n",
       " 'mochawesome-report/mochawesome_149.json',\n",
       " 'mochawesome-report/mochawesome_094.json',\n",
       " 'mochawesome-report/mochawesome_082.json',\n",
       " 'mochawesome-report/mochawesome_128.json',\n",
       " 'mochawesome-report/mochawesome_104.json',\n",
       " 'mochawesome-report/mochawesome_041.json',\n",
       " 'mochawesome-report/mochawesome_016.json',\n",
       " 'mochawesome-report/mochawesome_145.json',\n",
       " 'mochawesome-report/mochawesome_112.json',\n",
       " 'mochawesome-report/mochawesome_057.json',\n",
       " 'mochawesome-report/mochawesome_113.json',\n",
       " 'mochawesome-report/mochawesome_056.json',\n",
       " 'mochawesome-report/mochawesome_144.json',\n",
       " 'mochawesome-report/mochawesome_001.json',\n",
       " 'mochawesome-report/mochawesome_017.json',\n",
       " 'mochawesome-report/mochawesome_105.json',\n",
       " 'mochawesome-report/mochawesome_040.json',\n",
       " 'mochawesome-report/mochawesome_083.json',\n",
       " 'mochawesome-report/mochawesome_129.json',\n",
       " 'mochawesome-report/mochawesome_095.json',\n",
       " 'mochawesome-report/mochawesome_148.json',\n",
       " 'mochawesome-report/mochawesome.json',\n",
       " 'mochawesome-report/mochawesome_109.json',\n",
       " 'mochawesome-report/mochawesome_037.json',\n",
       " 'mochawesome-report/mochawesome_060.json',\n",
       " 'mochawesome-report/mochawesome_125.json',\n",
       " 'mochawesome-report/mochawesome_076.json',\n",
       " 'mochawesome-report/mochawesome_099.json',\n",
       " 'mochawesome-report/mochawesome_133.json',\n",
       " 'mochawesome-report/mochawesome_021.json',\n",
       " 'mochawesome-report/mochawesome_138.json',\n",
       " 'mochawesome-report/mochawesome_092.json',\n",
       " 'mochawesome-report/mochawesome_084.json',\n",
       " 'mochawesome-report/mochawesome_102.json',\n",
       " 'mochawesome-report/mochawesome_047.json',\n",
       " 'mochawesome-report/mochawesome_010.json',\n",
       " 'mochawesome-report/mochawesome_143.json',\n",
       " 'mochawesome-report/mochawesome_006.json',\n",
       " 'mochawesome-report/mochawesome_114.json',\n",
       " 'mochawesome-report/mochawesome_051.json',\n",
       " 'mochawesome-report/mochawesome_026.json',\n",
       " 'mochawesome-report/mochawesome_071.json',\n",
       " 'mochawesome-report/mochawesome_134.json',\n",
       " 'mochawesome-report/mochawesome_067.json',\n",
       " 'mochawesome-report/mochawesome_122.json',\n",
       " 'mochawesome-report/mochawesome_088.json',\n",
       " 'mochawesome-report/mochawesome_030.json',\n",
       " 'mochawesome-report/mochawesome_118.json',\n",
       " 'mochawesome-report/mochawesome_119.json',\n",
       " 'mochawesome-report/mochawesome_031.json',\n",
       " 'mochawesome-report/mochawesome_066.json',\n",
       " 'mochawesome-report/mochawesome_123.json',\n",
       " 'mochawesome-report/mochawesome_089.json',\n",
       " 'mochawesome-report/mochawesome_070.json',\n",
       " 'mochawesome-report/mochawesome_135.json',\n",
       " 'mochawesome-report/mochawesome_027.json',\n",
       " 'mochawesome-report/mochawesome_115.json',\n",
       " 'mochawesome-report/mochawesome_050.json',\n",
       " 'mochawesome-report/mochawesome_142.json',\n",
       " 'mochawesome-report/mochawesome_007.json',\n",
       " 'mochawesome-report/mochawesome_011.json',\n",
       " 'mochawesome-report/mochawesome_103.json',\n",
       " 'mochawesome-report/mochawesome_046.json',\n",
       " 'mochawesome-report/mochawesome_085.json',\n",
       " 'mochawesome-report/mochawesome_139.json',\n",
       " 'mochawesome-report/mochawesome_093.json',\n",
       " 'mochawesome-report/mochawesome_053.json',\n",
       " 'mochawesome-report/mochawesome_116.json',\n",
       " 'mochawesome-report/mochawesome_004.json',\n",
       " 'mochawesome-report/mochawesome_141.json',\n",
       " 'mochawesome-report/mochawesome_012.json',\n",
       " 'mochawesome-report/mochawesome_045.json',\n",
       " 'mochawesome-report/mochawesome_100.json',\n",
       " 'mochawesome-report/mochawesome_086.json',\n",
       " 'mochawesome-report/mochawesome_069.json',\n",
       " 'mochawesome-report/mochawesome_090.json',\n",
       " 'mochawesome-report/mochawesome_028.json',\n",
       " 'mochawesome-report/mochawesome_008.json',\n",
       " 'mochawesome-report/mochawesome_049.json',\n",
       " 'mochawesome-report/mochawesome_032.json',\n",
       " 'mochawesome-report/mochawesome_120.json',\n",
       " 'mochawesome-report/mochawesome_065.json',\n",
       " 'mochawesome-report/mochawesome_136.json',\n",
       " 'mochawesome-report/mochawesome_073.json',\n",
       " 'mochawesome-report/mochawesome_024.json',\n",
       " 'mochawesome-report/mochawesome_025.json',\n",
       " 'mochawesome-report/mochawesome_137.json',\n",
       " 'mochawesome-report/mochawesome_072.json',\n",
       " 'mochawesome-report/mochawesome_121.json',\n",
       " 'mochawesome-report/mochawesome_064.json',\n",
       " 'mochawesome-report/mochawesome_033.json',\n",
       " 'mochawesome-report/mochawesome_048.json',\n",
       " 'mochawesome-report/mochawesome_009.json',\n",
       " 'mochawesome-report/mochawesome_029.json',\n",
       " 'mochawesome-report/mochawesome_091.json',\n",
       " 'mochawesome-report/mochawesome_087.json',\n",
       " 'mochawesome-report/mochawesome_068.json',\n",
       " 'mochawesome-report/mochawesome_044.json',\n",
       " 'mochawesome-report/mochawesome_101.json',\n",
       " 'mochawesome-report/mochawesome_013.json',\n",
       " 'mochawesome-report/mochawesome_005.json',\n",
       " 'mochawesome-report/mochawesome_140.json',\n",
       " 'mochawesome-report/mochawesome_052.json',\n",
       " 'mochawesome-report/mochawesome_117.json',\n",
       " 'mochawesome-report/mochawesome_059.json',\n",
       " 'mochawesome-report/mochawesome_018.json',\n",
       " 'mochawesome-report/mochawesome_034.json',\n",
       " 'mochawesome-report/mochawesome_126.json',\n",
       " 'mochawesome-report/mochawesome_063.json',\n",
       " 'mochawesome-report/mochawesome_130.json',\n",
       " 'mochawesome-report/mochawesome_075.json',\n",
       " 'mochawesome-report/mochawesome_022.json',\n",
       " 'mochawesome-report/mochawesome_055.json',\n",
       " 'mochawesome-report/mochawesome_110.json',\n",
       " 'mochawesome-report/mochawesome_002.json',\n",
       " 'mochawesome-report/mochawesome_147.json',\n",
       " 'mochawesome-report/mochawesome_014.json',\n",
       " 'mochawesome-report/mochawesome_043.json',\n",
       " 'mochawesome-report/mochawesome_106.json',\n",
       " 'mochawesome-report/mochawesome_038.json',\n",
       " 'mochawesome-report/mochawesome_080.json',\n",
       " 'mochawesome-report/mochawesome_096.json',\n",
       " 'mochawesome-report/mochawesome_079.json',\n",
       " 'mochawesome-report/mochawesome_097.json',\n",
       " 'mochawesome-report/mochawesome_078.json',\n",
       " 'mochawesome-report/mochawesome_081.json',\n",
       " 'mochawesome-report/mochawesome_039.json',\n",
       " 'mochawesome-report/mochawesome_042.json',\n",
       " 'mochawesome-report/mochawesome_107.json',\n",
       " 'mochawesome-report/mochawesome_015.json',\n",
       " 'mochawesome-report/mochawesome_003.json',\n",
       " 'mochawesome-report/mochawesome_146.json',\n",
       " 'mochawesome-report/mochawesome_054.json',\n",
       " 'mochawesome-report/mochawesome_111.json',\n",
       " 'mochawesome-report/mochawesome_023.json',\n",
       " 'mochawesome-report/mochawesome_131.json',\n",
       " 'mochawesome-report/mochawesome_074.json',\n",
       " 'mochawesome-report/mochawesome_127.json',\n",
       " 'mochawesome-report/mochawesome_062.json',\n",
       " 'mochawesome-report/mochawesome_035.json',\n",
       " 'mochawesome-report/mochawesome_019.json',\n",
       " 'mochawesome-report/mochawesome_058.json']"
      ]
     },
     "execution_count": 7,
     "metadata": {},
     "output_type": "execute_result"
    }
   ],
   "source": [
    "all_reports"
   ]
  },
  {
   "cell_type": "code",
   "execution_count": 11,
   "id": "12a2e8f7",
   "metadata": {},
   "outputs": [],
   "source": [
    "tests = []\n",
    "suites = []\n",
    "def get_tests_df(test_title):\n",
    "    for file in all_reports:\n",
    "        with open(file) as f:\n",
    "            json_data = pd.json_normalize(json.loads(f.read()))\n",
    "        try:\n",
    "            for test in json_data['results'][0][0]['suites'][0]['tests']:\n",
    "                test_dict = test\n",
    "                test_dict['suiteName'] = json_data['results'][0][0]['suites'][0]['title']\n",
    "                tests.append(test_dict)\n",
    "            \n",
    "            suite_dict = json_data['results'][0][0]['suites'][0]\n",
    "            suite_dict['suiteTests'] = json_data['stats.tests'][0]\n",
    "            suite_dict['suitePassPercent'] = json_data['stats.passPercent'][0]\n",
    "            suite_dict['suitePendingPercent'] = json_data['stats.pendingPercent'][0]\n",
    "            suite_dict['suitePasses'] = json_data['stats.passes'][0]\n",
    "            suite_dict['suitePending'] = json_data['stats.pending'][0]\n",
    "            suite_dict['suiteFailures'] = json_data['stats.failures'][0]\n",
    "            suite_dict['suiteDuration'] = json_data['stats.duration'][0]\n",
    "            suite_dict['suiteSkipped'] = json_data['stats.skipped'][0]\n",
    "            suite_dict['duration'] = json_data['results'][0][0]['suites'][0][\"duration\"]\n",
    "            suites.append(suite_dict)\n",
    "        except Exception as e:\n",
    "            print(e)\n",
    "            pass\n",
    "    return pd.DataFrame(tests), pd.DataFrame(suites)\n",
    "\n",
    "\n",
    "df_tests = None\n",
    "df_suites = None\n",
    "df_tests, df_suites = get_tests_df(True)"
   ]
  },
  {
   "cell_type": "code",
   "execution_count": 9,
   "id": "41c30490",
   "metadata": {},
   "outputs": [
    {
     "data": {
      "text/plain": [
       "(750,)"
      ]
     },
     "execution_count": 9,
     "metadata": {},
     "output_type": "execute_result"
    }
   ],
   "source": [
    "df_tests.shape[:-1]"
   ]
  },
  {
   "cell_type": "code",
   "execution_count": 10,
   "id": "70c8bd5c",
   "metadata": {},
   "outputs": [
    {
     "data": {
      "text/plain": [
       "(450,)"
      ]
     },
     "execution_count": 10,
     "metadata": {},
     "output_type": "execute_result"
    }
   ],
   "source": [
    "df_tests.drop(df_tests[df_tests.duration == 0].index, inplace=True)\n",
    "df_tests.shape[:-1]"
   ]
  },
  {
   "cell_type": "code",
   "execution_count": 9,
   "id": "95e7caff",
   "metadata": {},
   "outputs": [],
   "source": [
    "df_tests_xpath = df_tests[df_tests[\"suiteName\"] == \"Using Cypress Xpath\"]\n",
    "df_tests_cypress = df_tests[df_tests[\"suiteName\"] == \"Just using Cypress\"]\n",
    "df_tests_testing_library = df_tests[df_tests[\"suiteName\"] == \"Using Cypress Testing Library\"]"
   ]
  },
  {
   "cell_type": "code",
   "execution_count": 10,
   "id": "6fd2486f",
   "metadata": {},
   "outputs": [
    {
     "data": {
      "text/html": [
       "<div>\n",
       "<style scoped>\n",
       "    .dataframe tbody tr th:only-of-type {\n",
       "        vertical-align: middle;\n",
       "    }\n",
       "\n",
       "    .dataframe tbody tr th {\n",
       "        vertical-align: top;\n",
       "    }\n",
       "\n",
       "    .dataframe thead th {\n",
       "        text-align: right;\n",
       "    }\n",
       "</style>\n",
       "<table border=\"1\" class=\"dataframe\">\n",
       "  <thead>\n",
       "    <tr style=\"text-align: right;\">\n",
       "      <th></th>\n",
       "      <th>title</th>\n",
       "      <th>fullTitle</th>\n",
       "      <th>timedOut</th>\n",
       "      <th>duration</th>\n",
       "      <th>state</th>\n",
       "      <th>speed</th>\n",
       "      <th>pass</th>\n",
       "      <th>fail</th>\n",
       "      <th>pending</th>\n",
       "      <th>context</th>\n",
       "      <th>code</th>\n",
       "      <th>err</th>\n",
       "      <th>uuid</th>\n",
       "      <th>parentUUID</th>\n",
       "      <th>isHook</th>\n",
       "      <th>skipped</th>\n",
       "      <th>suiteName</th>\n",
       "    </tr>\n",
       "  </thead>\n",
       "  <tbody>\n",
       "    <tr>\n",
       "      <th>20</th>\n",
       "      <td>Get elements using role</td>\n",
       "      <td>Using Cypress Testing Library Get elements usi...</td>\n",
       "      <td>None</td>\n",
       "      <td>2048</td>\n",
       "      <td>passed</td>\n",
       "      <td>fast</td>\n",
       "      <td>True</td>\n",
       "      <td>False</td>\n",
       "      <td>False</td>\n",
       "      <td>None</td>\n",
       "      <td>cy.findByRole('textbox').clear().type('Guirati...</td>\n",
       "      <td>{}</td>\n",
       "      <td>621f7413-26ff-41f3-9783-d2433b339c07</td>\n",
       "      <td>835f50fa-2e23-4668-8e38-7036853e551e</td>\n",
       "      <td>False</td>\n",
       "      <td>False</td>\n",
       "      <td>Using Cypress Testing Library</td>\n",
       "    </tr>\n",
       "    <tr>\n",
       "      <th>21</th>\n",
       "      <td>Get elements using data-testid attribute</td>\n",
       "      <td>Using Cypress Testing Library Get elements usi...</td>\n",
       "      <td>None</td>\n",
       "      <td>1361</td>\n",
       "      <td>passed</td>\n",
       "      <td>fast</td>\n",
       "      <td>True</td>\n",
       "      <td>False</td>\n",
       "      <td>False</td>\n",
       "      <td>None</td>\n",
       "      <td>cy.findByTestId('input-city').clear().type('Gu...</td>\n",
       "      <td>{}</td>\n",
       "      <td>4e0d83b5-6f43-4e51-8f39-f851b7a8fea6</td>\n",
       "      <td>835f50fa-2e23-4668-8e38-7036853e551e</td>\n",
       "      <td>False</td>\n",
       "      <td>False</td>\n",
       "      <td>Using Cypress Testing Library</td>\n",
       "    </tr>\n",
       "    <tr>\n",
       "      <th>22</th>\n",
       "      <td>Get elements using text</td>\n",
       "      <td>Using Cypress Testing Library Get elements usi...</td>\n",
       "      <td>None</td>\n",
       "      <td>1287</td>\n",
       "      <td>passed</td>\n",
       "      <td>fast</td>\n",
       "      <td>True</td>\n",
       "      <td>False</td>\n",
       "      <td>False</td>\n",
       "      <td>None</td>\n",
       "      <td>cy.findByDisplayValue('São Paulo').clear().typ...</td>\n",
       "      <td>{}</td>\n",
       "      <td>83531405-61e1-4edf-ab5d-776b77cb7e08</td>\n",
       "      <td>835f50fa-2e23-4668-8e38-7036853e551e</td>\n",
       "      <td>False</td>\n",
       "      <td>False</td>\n",
       "      <td>Using Cypress Testing Library</td>\n",
       "    </tr>\n",
       "    <tr>\n",
       "      <th>25</th>\n",
       "      <td>Get elements using role</td>\n",
       "      <td>Using Cypress Testing Library Get elements usi...</td>\n",
       "      <td>None</td>\n",
       "      <td>1738</td>\n",
       "      <td>passed</td>\n",
       "      <td>fast</td>\n",
       "      <td>True</td>\n",
       "      <td>False</td>\n",
       "      <td>False</td>\n",
       "      <td>None</td>\n",
       "      <td>cy.findByRole('textbox').clear().type('Guirati...</td>\n",
       "      <td>{}</td>\n",
       "      <td>ef15fadd-7ec1-4934-9ef1-1cdfed75a90c</td>\n",
       "      <td>67cdd05c-d561-4654-85a8-6fc19609adc3</td>\n",
       "      <td>False</td>\n",
       "      <td>False</td>\n",
       "      <td>Using Cypress Testing Library</td>\n",
       "    </tr>\n",
       "    <tr>\n",
       "      <th>26</th>\n",
       "      <td>Get elements using data-testid attribute</td>\n",
       "      <td>Using Cypress Testing Library Get elements usi...</td>\n",
       "      <td>None</td>\n",
       "      <td>1012</td>\n",
       "      <td>passed</td>\n",
       "      <td>fast</td>\n",
       "      <td>True</td>\n",
       "      <td>False</td>\n",
       "      <td>False</td>\n",
       "      <td>None</td>\n",
       "      <td>cy.findByTestId('input-city').clear().type('Gu...</td>\n",
       "      <td>{}</td>\n",
       "      <td>747a6703-9193-43a6-bf33-4f7656999fb2</td>\n",
       "      <td>67cdd05c-d561-4654-85a8-6fc19609adc3</td>\n",
       "      <td>False</td>\n",
       "      <td>False</td>\n",
       "      <td>Using Cypress Testing Library</td>\n",
       "    </tr>\n",
       "  </tbody>\n",
       "</table>\n",
       "</div>"
      ],
      "text/plain": [
       "                                       title  \\\n",
       "20                   Get elements using role   \n",
       "21  Get elements using data-testid attribute   \n",
       "22                   Get elements using text   \n",
       "25                   Get elements using role   \n",
       "26  Get elements using data-testid attribute   \n",
       "\n",
       "                                            fullTitle timedOut  duration  \\\n",
       "20  Using Cypress Testing Library Get elements usi...     None      2048   \n",
       "21  Using Cypress Testing Library Get elements usi...     None      1361   \n",
       "22  Using Cypress Testing Library Get elements usi...     None      1287   \n",
       "25  Using Cypress Testing Library Get elements usi...     None      1738   \n",
       "26  Using Cypress Testing Library Get elements usi...     None      1012   \n",
       "\n",
       "     state speed  pass   fail  pending context  \\\n",
       "20  passed  fast  True  False    False    None   \n",
       "21  passed  fast  True  False    False    None   \n",
       "22  passed  fast  True  False    False    None   \n",
       "25  passed  fast  True  False    False    None   \n",
       "26  passed  fast  True  False    False    None   \n",
       "\n",
       "                                                 code err  \\\n",
       "20  cy.findByRole('textbox').clear().type('Guirati...  {}   \n",
       "21  cy.findByTestId('input-city').clear().type('Gu...  {}   \n",
       "22  cy.findByDisplayValue('São Paulo').clear().typ...  {}   \n",
       "25  cy.findByRole('textbox').clear().type('Guirati...  {}   \n",
       "26  cy.findByTestId('input-city').clear().type('Gu...  {}   \n",
       "\n",
       "                                    uuid  \\\n",
       "20  621f7413-26ff-41f3-9783-d2433b339c07   \n",
       "21  4e0d83b5-6f43-4e51-8f39-f851b7a8fea6   \n",
       "22  83531405-61e1-4edf-ab5d-776b77cb7e08   \n",
       "25  ef15fadd-7ec1-4934-9ef1-1cdfed75a90c   \n",
       "26  747a6703-9193-43a6-bf33-4f7656999fb2   \n",
       "\n",
       "                              parentUUID  isHook  skipped  \\\n",
       "20  835f50fa-2e23-4668-8e38-7036853e551e   False    False   \n",
       "21  835f50fa-2e23-4668-8e38-7036853e551e   False    False   \n",
       "22  835f50fa-2e23-4668-8e38-7036853e551e   False    False   \n",
       "25  67cdd05c-d561-4654-85a8-6fc19609adc3   False    False   \n",
       "26  67cdd05c-d561-4654-85a8-6fc19609adc3   False    False   \n",
       "\n",
       "                        suiteName  \n",
       "20  Using Cypress Testing Library  \n",
       "21  Using Cypress Testing Library  \n",
       "22  Using Cypress Testing Library  \n",
       "25  Using Cypress Testing Library  \n",
       "26  Using Cypress Testing Library  "
      ]
     },
     "execution_count": 10,
     "metadata": {},
     "output_type": "execute_result"
    }
   ],
   "source": [
    "df_tests_testing_library.head()"
   ]
  },
  {
   "cell_type": "code",
   "execution_count": 11,
   "id": "a6b93538",
   "metadata": {},
   "outputs": [
    {
     "name": "stdout",
     "output_type": "stream",
     "text": [
      "1263.7066666666667\n",
      "1671.2933333333333\n",
      "1233.7133333333334\n"
     ]
    }
   ],
   "source": [
    "print(df_tests_xpath['duration'].mean())\n",
    "print(df_tests_cypress['duration'].mean())\n",
    "print(df_tests_testing_library['duration'].mean())"
   ]
  },
  {
   "cell_type": "code",
   "execution_count": 12,
   "id": "81a69135",
   "metadata": {},
   "outputs": [
    {
     "data": {
      "text/plain": [
       "suiteName\n",
       "Just using Cypress               1671.293333\n",
       "Using Cypress Testing Library    1233.713333\n",
       "Using Cypress Xpath              1263.706667\n",
       "Name: duration, dtype: float64"
      ]
     },
     "execution_count": 12,
     "metadata": {},
     "output_type": "execute_result"
    }
   ],
   "source": [
    "df_tests.groupby(\"suiteName\")[\"duration\"].mean()"
   ]
  },
  {
   "cell_type": "code",
   "execution_count": 15,
   "id": "f4706345",
   "metadata": {},
   "outputs": [
    {
     "data": {
      "text/plain": [
       "<AxesSubplot:xlabel='suiteName'>"
      ]
     },
     "execution_count": 15,
     "metadata": {},
     "output_type": "execute_result"
    },
    {
     "data": {
      "image/png": "[encoded data removed]",
      "text/plain": [
       "<Figure size 432x288 with 1 Axes>"
      ]
     },
     "metadata": {
      "needs_background": "light"
     },
     "output_type": "display_data"
    }
   ],
   "source": [
    "df_tests.groupby(\"suiteName\")[\"duration\"].mean().plot.bar()"
   ]
  },
  {
   "cell_type": "code",
   "execution_count": 20,
   "id": "6ef5af35",
   "metadata": {},
   "outputs": [
    {
     "data": {
      "text/plain": [
       "suiteName\n",
       "Just using Cypress               250694\n",
       "Using Cypress Testing Library    185057\n",
       "Using Cypress Xpath              189556\n",
       "Name: duration, dtype: int64"
      ]
     },
     "execution_count": 20,
     "metadata": {},
     "output_type": "execute_result"
    }
   ],
   "source": [
    "df_tests.groupby(\"suiteName\")[\"duration\"].sum()"
   ]
  },
  {
   "cell_type": "code",
   "execution_count": 21,
   "id": "e10480e5",
   "metadata": {},
   "outputs": [
    {
     "data": {
      "text/plain": [
       "<AxesSubplot:xlabel='suiteName'>"
      ]
     },
     "execution_count": 21,
     "metadata": {},
     "output_type": "execute_result"
    },
    {
     "data": {
      "image/png": "[encoded data removed]",
      "text/plain": [
       "<Figure size 432x288 with 1 Axes>"
      ]
     },
     "metadata": {
      "needs_background": "light"
     },
     "output_type": "display_data"
    }
   ],
   "source": [
    "df_tests.groupby(\"suiteName\")[\"duration\"].sum().plot.bar()"
   ]
  },
  {
   "cell_type": "code",
   "execution_count": 171,
   "id": "222bdd69",
   "metadata": {},
   "outputs": [
    {
     "data": {
      "text/plain": [
       "title\n",
       "Just using Cypress               5013.88\n",
       "Using Cypress Testing Library    3701.14\n",
       "Using Cypress Xpath              3791.12\n",
       "Name: duration, dtype: float64"
      ]
     },
     "execution_count": 171,
     "metadata": {},
     "output_type": "execute_result"
    }
   ],
   "source": [
    "df_suites.groupby(\"title\")[\"duration\"].mean()"
   ]
  },
  {
   "cell_type": "code",
   "execution_count": 172,
   "id": "bd859ad5",
   "metadata": {},
   "outputs": [
    {
     "data": {
      "text/plain": [
       "array(['Get elements using id',\n",
       "       'Get elements using data-testid attribute',\n",
       "       'Get elements using text'], dtype=object)"
      ]
     },
     "execution_count": 172,
     "metadata": {},
     "output_type": "execute_result"
    }
   ],
   "source": [
    "df_tests_xpath[\"title\"].unique()"
   ]
  },
  {
   "cell_type": "code",
   "execution_count": 30,
   "id": "b3962d5e",
   "metadata": {},
   "outputs": [
    {
     "data": {
      "text/plain": [
       "title\n",
       "Get elements using data-testid attribute    1123.62\n",
       "Get elements using id                       2870.20\n",
       "Get elements using text                     1020.06\n",
       "Name: duration, dtype: float64"
      ]
     },
     "execution_count": 30,
     "metadata": {},
     "output_type": "execute_result"
    }
   ],
   "source": [
    "df_tests_cypress.groupby(\"title\")[\"duration\"].mean()"
   ]
  },
  {
   "cell_type": "code",
   "execution_count": 32,
   "id": "30819519",
   "metadata": {},
   "outputs": [
    {
     "data": {
      "text/plain": [
       "<AxesSubplot:title={'center':'Cypress - Tempo médio de execução por selector'}, xlabel='title'>"
      ]
     },
     "execution_count": 32,
     "metadata": {},
     "output_type": "execute_result"
    },
    {
     "data": {
      "image/png": "[encoded data removed]",
      "text/plain": [
       "<Figure size 432x288 with 1 Axes>"
      ]
     },
     "metadata": {
      "needs_background": "light"
     },
     "output_type": "display_data"
    }
   ],
   "source": [
    "df_tests_cypress.groupby(\"title\")[\"duration\"].mean().plot.bar(title=\"Cypress - Tempo médio de execução por selector\")"
   ]
  },
  {
   "cell_type": "code",
   "execution_count": 25,
   "id": "91105e8e",
   "metadata": {},
   "outputs": [
    {
     "data": {
      "text/plain": [
       "title\n",
       "Get elements using data-testid attribute     56181\n",
       "Get elements using id                       143510\n",
       "Get elements using text                      51003\n",
       "Name: duration, dtype: int64"
      ]
     },
     "execution_count": 25,
     "metadata": {},
     "output_type": "execute_result"
    }
   ],
   "source": [
    "df_tests_cypress.groupby(\"title\")[\"duration\"].sum()"
   ]
  },
  {
   "cell_type": "code",
   "execution_count": 31,
   "id": "1981f99c",
   "metadata": {},
   "outputs": [
    {
     "data": {
      "text/plain": [
       "<AxesSubplot:title={'center':'Cypress - Tempo total de execução por selector'}, xlabel='title'>"
      ]
     },
     "execution_count": 31,
     "metadata": {},
     "output_type": "execute_result"
    },
    {
     "data": {
      "image/png": "[encoded data removed]",
      "text/plain": [
       "<Figure size 432x288 with 1 Axes>"
      ]
     },
     "metadata": {
      "needs_background": "light"
     },
     "output_type": "display_data"
    }
   ],
   "source": [
    "df_tests_cypress.groupby(\"title\")[\"duration\"].sum().plot.bar(title=\"Cypress - Tempo total de execução por selector\")"
   ]
  },
  {
   "cell_type": "code",
   "execution_count": 174,
   "id": "ff7c0c0a",
   "metadata": {},
   "outputs": [
    {
     "data": {
      "text/plain": [
       "title\n",
       "Get elements using data-testid attribute    1069.98\n",
       "Get elements using role                     1660.14\n",
       "Get elements using text                      971.02\n",
       "Name: duration, dtype: float64"
      ]
     },
     "execution_count": 174,
     "metadata": {},
     "output_type": "execute_result"
    }
   ],
   "source": [
    "df_tests_testing_library.groupby(\"title\")[\"duration\"].mean()"
   ]
  },
  {
   "cell_type": "code",
   "execution_count": 39,
   "id": "0c71be7d",
   "metadata": {},
   "outputs": [
    {
     "data": {
      "text/plain": [
       "<AxesSubplot:title={'center':'Cypress Testing Library - Tempo médio de execução por selector'}, xlabel='title'>"
      ]
     },
     "execution_count": 39,
     "metadata": {},
     "output_type": "execute_result"
    },
    {
     "data": {
      "image/png": "[encoded data removed]",
      "text/plain": [
       "<Figure size 432x288 with 1 Axes>"
      ]
     },
     "metadata": {
      "needs_background": "light"
     },
     "output_type": "display_data"
    }
   ],
   "source": [
    "df_tests_testing_library.groupby(\"title\")[\"duration\"].mean().plot.bar(title=\"Cypress Testing Library - Tempo médio de execução por selector\")"
   ]
  },
  {
   "cell_type": "code",
   "execution_count": 35,
   "id": "240ff22d",
   "metadata": {},
   "outputs": [
    {
     "data": {
      "text/plain": [
       "title\n",
       "Get elements using data-testid attribute    53499\n",
       "Get elements using role                     83007\n",
       "Get elements using text                     48551\n",
       "Name: duration, dtype: int64"
      ]
     },
     "execution_count": 35,
     "metadata": {},
     "output_type": "execute_result"
    }
   ],
   "source": [
    "df_tests_testing_library.groupby(\"title\")[\"duration\"].sum()"
   ]
  },
  {
   "cell_type": "code",
   "execution_count": 41,
   "id": "3faa1bd0",
   "metadata": {},
   "outputs": [
    {
     "data": {
      "text/plain": [
       "<AxesSubplot:title={'center':'Cypress Testing Library - Tempo total de execução por selector'}, xlabel='title'>"
      ]
     },
     "execution_count": 41,
     "metadata": {},
     "output_type": "execute_result"
    },
    {
     "data": {
      "image/png": "[encoded data removed]",
      "text/plain": [
       "<Figure size 432x288 with 1 Axes>"
      ]
     },
     "metadata": {
      "needs_background": "light"
     },
     "output_type": "display_data"
    }
   ],
   "source": [
    "df_tests_testing_library.groupby(\"title\")[\"duration\"].sum().plot.bar(title=\"Cypress Testing Library - Tempo total de execução por selector\")"
   ]
  },
  {
   "cell_type": "code",
   "execution_count": 43,
   "id": "1973aa83",
   "metadata": {},
   "outputs": [
    {
     "data": {
      "text/plain": [
       "<AxesSubplot:title={'center':'Xpath - Tempo médio de execução por selector'}, xlabel='title'>"
      ]
     },
     "execution_count": 43,
     "metadata": {},
     "output_type": "execute_result"
    },
    {
     "data": {
      "image/png": "[encoded data removed]",
      "text/plain": [
       "<Figure size 432x288 with 1 Axes>"
      ]
     },
     "metadata": {
      "needs_background": "light"
     },
     "output_type": "display_data"
    }
   ],
   "source": [
    "df_tests_xpath.groupby(\"title\")[\"duration\"].mean().plot.bar(title=\"Xpath - Tempo médio de execução por selector\")"
   ]
  },
  {
   "cell_type": "code",
   "execution_count": 45,
   "id": "2c63ddf5",
   "metadata": {},
   "outputs": [
    {
     "data": {
      "text/plain": [
       "title\n",
       "Get elements using data-testid attribute    1060.92\n",
       "Get elements using id                       1673.62\n",
       "Get elements using text                     1056.58\n",
       "Name: duration, dtype: float64"
      ]
     },
     "execution_count": 45,
     "metadata": {},
     "output_type": "execute_result"
    }
   ],
   "source": [
    "df_tests_xpath.groupby(\"title\")[\"duration\"].mean()"
   ]
  },
  {
   "cell_type": "code",
   "execution_count": 44,
   "id": "1d8158b4",
   "metadata": {},
   "outputs": [
    {
     "data": {
      "text/plain": [
       "<AxesSubplot:title={'center':'Xpath - Tempo total de execução por selector'}, xlabel='title'>"
      ]
     },
     "execution_count": 44,
     "metadata": {},
     "output_type": "execute_result"
    },
    {
     "data": {
      "image/png": "[encoded data removed]",
      "text/plain": [
       "<Figure size 432x288 with 1 Axes>"
      ]
     },
     "metadata": {
      "needs_background": "light"
     },
     "output_type": "display_data"
    }
   ],
   "source": [
    "df_tests_xpath.groupby(\"title\")[\"duration\"].sum().plot.bar(title=\"Xpath - Tempo total de execução por selector\")"
   ]
  },
  {
   "cell_type": "code",
   "execution_count": 46,
   "id": "1c7f0b78",
   "metadata": {},
   "outputs": [
    {
     "data": {
      "text/plain": [
       "title\n",
       "Get elements using data-testid attribute    53046\n",
       "Get elements using id                       83681\n",
       "Get elements using text                     52829\n",
       "Name: duration, dtype: int64"
      ]
     },
     "execution_count": 46,
     "metadata": {},
     "output_type": "execute_result"
    }
   ],
   "source": [
    "df_tests_xpath.groupby(\"title\")[\"duration\"].sum()"
   ]
  },
  {
   "cell_type": "code",
   "execution_count": 53,
   "id": "3ac98e7c",
   "metadata": {},
   "outputs": [
    {
     "data": {
      "text/plain": [
       "title\n",
       "Get elements using data-testid attribute    1084.840000\n",
       "Get elements using id                       2067.986667\n",
       "Get elements using text                     1015.886667\n",
       "Name: duration, dtype: float64"
      ]
     },
     "execution_count": 53,
     "metadata": {},
     "output_type": "execute_result"
    }
   ],
   "source": [
    "df_tests.loc[df_tests['title'] == 'Get elements using role', ['title']] = 'Get elements using id'\n",
    "df_tests.groupby(\"title\")[\"duration\"].mean()"
   ]
  },
  {
   "cell_type": "code",
   "execution_count": 54,
   "id": "a3ff8625",
   "metadata": {},
   "outputs": [
    {
     "data": {
      "text/plain": [
       "<AxesSubplot:title={'center':'Selectors - Tempo médio de execução por selector'}, xlabel='title'>"
      ]
     },
     "execution_count": 54,
     "metadata": {},
     "output_type": "execute_result"
    },
    {
     "data": {
      "image/png": "[encoded data removed]",
      "text/plain": [
       "<Figure size 432x288 with 1 Axes>"
      ]
     },
     "metadata": {
      "needs_background": "light"
     },
     "output_type": "display_data"
    }
   ],
   "source": [
    "df_tests.loc[df_tests['title'] == 'Get elements using role', ['title']] = 'Get elements using id'\n",
    "df_tests.groupby(\"title\")[\"duration\"].mean().plot.bar(title=\"Selectors - Tempo médio de execução por selector\")"
   ]
  },
  {
   "cell_type": "code",
   "execution_count": 52,
   "id": "f28658fd",
   "metadata": {},
   "outputs": [
    {
     "data": {
      "text/plain": [
       "title\n",
       "Get elements using data-testid attribute    162726\n",
       "Get elements using id                       310198\n",
       "Get elements using text                     152383\n",
       "Name: duration, dtype: int64"
      ]
     },
     "execution_count": 52,
     "metadata": {},
     "output_type": "execute_result"
    }
   ],
   "source": [
    "df_tests.loc[df_tests['title'] == 'Get elements using role', ['title']] = 'Get elements using id'\n",
    "df_tests.groupby(\"title\")[\"duration\"].sum()"
   ]
  },
  {
   "cell_type": "code",
   "execution_count": 51,
   "id": "cfda0164",
   "metadata": {},
   "outputs": [
    {
     "data": {
      "text/plain": [
       "<AxesSubplot:title={'center':'Selectors - Tempo total de execução por selector'}, xlabel='title'>"
      ]
     },
     "execution_count": 51,
     "metadata": {},
     "output_type": "execute_result"
    },
    {
     "data": {
      "image/png": "[encoded data removed]",
      "text/plain": [
       "<Figure size 432x288 with 1 Axes>"
      ]
     },
     "metadata": {
      "needs_background": "light"
     },
     "output_type": "display_data"
    }
   ],
   "source": [
    "df_tests.loc[df_tests['title'] == 'Get elements using role', ['title']] = 'Get elements using id'\n",
    "df_tests.groupby(\"title\")[\"duration\"].sum().plot.bar(title=\"Selectors - Tempo total de execução por selector\")"
   ]
  }
 ],
 "metadata": {
  "kernelspec": {
   "display_name": "Python 3 (ipykernel)",
   "language": "python",
   "name": "python3"
  },
  "language_info": {
   "codemirror_mode": {
    "name": "ipython",
    "version": 3
   },
   "file_extension": ".py",
   "mimetype": "text/x-python",
   "name": "python",
   "nbconvert_exporter": "python",
   "pygments_lexer": "ipython3",
   "version": "3.9.12"
  }
 },
 "nbformat": 4,
 "nbformat_minor": 5
}
